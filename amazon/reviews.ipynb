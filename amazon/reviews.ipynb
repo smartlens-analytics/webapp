{
 "cells": [
  {
   "cell_type": "code",
   "execution_count": 2,
   "metadata": {},
   "outputs": [],
   "source": [
    "import numpy as np\n",
    "import pandas as pd\n",
    "\n",
    "import boto3\n",
    "import json\n",
    "\n",
    "import nltk\n",
    "from nltk import data\n",
    "from nltk.corpus import stopwords\n",
    "from nltk.stem import WordNetLemmatizer\n",
    "from nltk.stem.porter import PorterStemmer\n",
    "\n",
    "import matplotlib.pyplot as plt\n",
    "import seaborn as sns\n",
    "\n",
    "from ipywidgets import interact, interactive, fixed, interact_manual\n",
    "import ipywidgets as widgets\n",
    "from IPython.display import display\n",
    "\n",
    "#from vaderSentiment.vaderSentiment import SentimentIntensityAnalyzer\n",
    "#from vaderSentiment import SentimentIntensityAnalyzer"
   ]
  },
  {
   "cell_type": "code",
   "execution_count": 5,
   "metadata": {},
   "outputs": [],
   "source": [
    "pd.set_option('display.max_colwidth', -1)\n",
    "\n",
    "nltk.download('punkt', quiet=True)\n",
    "nltk.download('stopwords', quiet=True)\n",
    "nltk.download('wordnet', quiet=True);"
   ]
  },
  {
   "cell_type": "code",
   "execution_count": 11,
   "metadata": {},
   "outputs": [],
   "source": [
    "sentence_tokenizer = data.load('tokenizers/punkt/english.pickle')\n",
    "english_stop_words = stopwords.words('english')\n",
    "comprehend = boto3.client(\n",
    "                          service_name='comprehend', \n",
    "                          region_name='us-west-2',\n",
    "                         )\n",
    "#analyzer = SentimentIntensityAnalyzer()"
   ]
  },
  {
   "cell_type": "code",
   "execution_count": 8,
   "metadata": {},
   "outputs": [],
   "source": [
    "reviews_raw = pd.read_csv('review_details.csv',engine='python').dropna(subset=['review_content_text'])\n",
    "reviews_deduped = reviews_raw.drop_duplicates(subset=['review_id'])\n",
    "reviews_verified = reviews_deduped[reviews_deduped.is_verified == 1]\n",
    "reviews_bluetooth = reviews_verified[(reviews_verified.review_asin == 'B074QLB1Y7') |\n",
    "                                   (reviews_verified.review_asin == 'B00P24XKS8')]\n",
    "\n",
    "reviews = reviews_verified.copy()\n",
    "\n",
    "topics = ['material quality',\n",
    "         'battery life',\n",
    "         'sound quality',\n",
    "         'volume control',\n",
    "         'tech support']\n",
    "sentiments = ['POSITIVE','NEGATIVE','NEUTRAL','MIXED']\n",
    "asins = list(reviews.review_asin.unique())\n"
   ]
  },
  {
   "cell_type": "code",
   "execution_count": 28,
   "metadata": {},
   "outputs": [
    {
     "data": {
      "text/plain": [
       "id                                  2.90604e+08                                                                                                                                                                                                \n",
       "page_id                             232302871                                                                                                                                                                                                  \n",
       "data_id                             43374262                                                                                                                                                                                                   \n",
       "asin                                B074QLB1Y7                                                                                                                                                                                                 \n",
       "review_asin                         B074QLB1Y7                                                                                                                                                                                                 \n",
       "review_id                           R39IQE57CZ4Q1P                                                                                                                                                                                             \n",
       "country                             us                                                                                                                                                                                                         \n",
       "is_verified                         1                                                                                                                                                                                                          \n",
       "version                             Color: Black                                                                                                                                                                                               \n",
       "version_link                        /TaoTronics-Bluetooth-Transmitter-Connected-Transmission/product-reviews/B074QLB1Y7/ref=cm_cr_arp_d_rvw_fmt?ie=UTF8&filterByStar=all_stars&reviewerType=all_reviews&sortBy=recent&formatType=current_format\n",
       "review_date                         2019-01-09 00:00:00                                                                                                                                                                                        \n",
       "helpful                             Helpful                                                                                                                                                                                                    \n",
       "ReviewerLink                        /gp/profile/amzn1.account.AGC26UZUN4RDA4CPXYEFBL5AM5ZQ/ref=cm_cr_arp_d_gw_btm?ie=UTF8                                                                                                                      \n",
       "reviewer_id                         NaN                                                                                                                                                                                                        \n",
       "stars                               2.0 out of 5 stars                                                                                                                                                                                         \n",
       "review_title                        Paire little bit complicated                                                                                                                                                                               \n",
       "review_stars                        2                                                                                                                                                                                                          \n",
       "reviewer                            Belkis                                                                                                                                                                                                     \n",
       "create_date                         2019-01-11 00:44:18                                                                                                                                                                                        \n",
       "update_date                         NaN                                                                                                                                                                                                        \n",
       "review_url                          https://www.amazon.com/gp/customer-reviews/R39IQE57CZ4Q1P/ref=cm_cr_arp_d_rvw_ttl?ie=UTF8&ASIN=B074QLB1Y7                                                                                                  \n",
       "review_content_text                 Kind of complicated to paire , sound is ok and battery life is not to strong.                                                                                                                              \n",
       "topic_battery life                  Kind of complicated to paire , sound is ok and battery life is not to strong.                                                                                                                              \n",
       "topic_battery life_sentiment        NEGATIVE                                                                                                                                                                                                   \n",
       "topic_sound quality                 NaN                                                                                                                                                                                                        \n",
       "topic_sound quality_sentiment       NaN                                                                                                                                                                                                        \n",
       "topic_volume control                NaN                                                                                                                                                                                                        \n",
       "topic_volume control_sentiment      NaN                                                                                                                                                                                                        \n",
       "topic_tech support                  NaN                                                                                                                                                                                                        \n",
       "topic_tech support_sentiment        NaN                                                                                                                                                                                                        \n",
       "topic_material quality              NaN                                                                                                                                                                                                        \n",
       "topic_material quality_sentiment    NaN                                                                                                                                                                                                        \n",
       "Name: 0, dtype: object"
      ]
     },
     "execution_count": 28,
     "metadata": {},
     "output_type": "execute_result"
    }
   ],
   "source": [
    "reviews.ix[0]"
   ]
  },
  {
   "cell_type": "code",
   "execution_count": 9,
   "metadata": {},
   "outputs": [],
   "source": [
    "def preprocess(corpus):\n",
    "    lemmatizer = WordNetLemmatizer()\n",
    "\n",
    "    return [' '.join([lemmatizer.lemmatize(word.lower()) for word in doc.split()\n",
    "                      if word not in english_stop_words]) for doc in corpus]\n",
    "\n",
    "def sentiment(score):\n",
    "    # score [-1,1]\n",
    "    if score > 0.05:\n",
    "        return 'Positive'\n",
    "    elif score < -0.05:\n",
    "        return 'Negative'\n",
    "    else:\n",
    "        return 'Mixed'"
   ]
  },
  {
   "cell_type": "code",
   "execution_count": 13,
   "metadata": {},
   "outputs": [],
   "source": [
    "def sentiment(score):\n",
    "    # score [-1,1]\n",
    "    if score > 0.05:\n",
    "        return 'Positive'\n",
    "    elif score < -0.05:\n",
    "        return 'Negative'\n",
    "    else:\n",
    "        return 'Mixed'\n",
    "\n",
    "for index, row in reviews.iterrows():\n",
    "    review = row['review_content_text']\n",
    "    sentences = sentence_tokenizer.tokenize(review)\n",
    "    sentences_preprocessed = preprocess(sentences)\n",
    "    topics_sentiment = []\n",
    "    \n",
    "    for topic in topics:\n",
    "        sentences_topic = [sentence for sentence in sentences if topic in sentence]\n",
    "        \n",
    "        if sentences_topic:\n",
    "            sentence_topic = ' '.join(sentences_topic)\n",
    "            reviews.at[index, 'topic_{}'.format(topic)] = sentence_topic\n",
    "            try:\n",
    "                #vs = analyzer.polarity_scores(sentence_topic)\n",
    "                aws_sentiment = comprehend.detect_sentiment(Text=sentence_topic, LanguageCode='en')\n",
    "                reviews.at[index, 'topic_{}_sentiment'.format(topic)] = aws_sentiment['Sentiment']#sentiment(vs['compound'])\n",
    "            except Exception as ex:\n",
    "                reviews.at[index, 'topic_{}_sentiment'.format(topic)] = 'N/A'\n",
    "                print(ex)\n",
    "                "
   ]
  },
  {
   "cell_type": "markdown",
   "metadata": {},
   "source": [
    "# 亚马逊评论话题的情绪分析"
   ]
  },
  {
   "cell_type": "code",
   "execution_count": 36,
   "metadata": {
    "scrolled": false
   },
   "outputs": [
    {
     "data": {
      "application/vnd.jupyter.widget-view+json": {
       "model_id": "3c2b6486f98e49aca581429f4868aa36",
       "version_major": 2,
       "version_minor": 0
      },
      "text/html": [
       "<p>Failed to display Jupyter Widget of type <code>interactive</code>.</p>\n",
       "<p>\n",
       "  If you're reading this message in the Jupyter Notebook or JupyterLab Notebook, it may mean\n",
       "  that the widgets JavaScript is still loading. If this message persists, it\n",
       "  likely means that the widgets JavaScript library is either not installed or\n",
       "  not enabled. See the <a href=\"https://ipywidgets.readthedocs.io/en/stable/user_install.html\">Jupyter\n",
       "  Widgets Documentation</a> for setup instructions.\n",
       "</p>\n",
       "<p>\n",
       "  If you're reading this message in another frontend (for example, a static\n",
       "  rendering on GitHub or <a href=\"https://nbviewer.jupyter.org/\">NBViewer</a>),\n",
       "  it may mean that your frontend doesn't currently support widgets.\n",
       "</p>\n"
      ],
      "text/plain": [
       "interactive(children=(Dropdown(description='商品', options=('B074QLB1Y7', 'B00P24XKS8', 'B078W78562'), value='B074QLB1Y7'), Dropdown(description='话题', options=('material quality', 'battery life', 'sound quality', 'volume control', 'tech support'), value='material quality'), Dropdown(description='情绪', options=('POSITIVE', 'NEGATIVE', 'NEUTRAL', 'MIXED'), value='POSITIVE'), Output()), _dom_classes=('widget-interact',))"
      ]
     },
     "metadata": {},
     "output_type": "display_data"
    }
   ],
   "source": [
    "@interact\n",
    "def filter_by_sentiment(商品 = asins,\n",
    "                        话题 = topics,\n",
    "                        情绪 = sentiments):\n",
    "    reviews_asin = reviews[reviews.review_asin == 商品]\n",
    "    reviews_topic = reviews_asin[reviews_asin['topic_{}'.format(话题)].notnull()]\n",
    "    try:\n",
    "        reviews_topic['topic_{}_sentiment'.format(话题)].value_counts().sort_index().plot(kind='bar', \n",
    "                                                                                        title='{}'.format(话题), \n",
    "                                                                                        color=['y','g','b','r'],\n",
    "                                                                                        )\n",
    "        plt.xlabel('Sentiment')\n",
    "        plt.ylabel('Count')\n",
    "    except Exception as ex:\n",
    "        #print(ex)\n",
    "        print('商品{}的评论没有提及关于{}的话题'.format(商品, 话题))\n",
    "    return reviews_asin.loc[reviews_asin['topic_{}_sentiment'.format(话题)] == 情绪][\n",
    "        ['topic_{}'.format(话题),'review_content_text']].rename(columns={'topic_{}'.format(话题):'话题节选',\n",
    "                                                                          'review_content_text':'评论全文'}).reset_index().drop('index',axis=1).shift()[1:]\n"
   ]
  },
  {
   "cell_type": "code",
   "execution_count": null,
   "metadata": {},
   "outputs": [],
   "source": []
  }
 ],
 "metadata": {
  "kernelspec": {
   "display_name": "Python 3",
   "language": "python",
   "name": "python3"
  },
  "language_info": {
   "codemirror_mode": {
    "name": "ipython",
    "version": 3
   },
   "file_extension": ".py",
   "mimetype": "text/x-python",
   "name": "python",
   "nbconvert_exporter": "python",
   "pygments_lexer": "ipython3",
   "version": "3.6.3"
  }
 },
 "nbformat": 4,
 "nbformat_minor": 2
}
